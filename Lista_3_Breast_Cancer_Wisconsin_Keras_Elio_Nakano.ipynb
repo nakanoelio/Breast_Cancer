{
  "nbformat": 4,
  "nbformat_minor": 0,
  "metadata": {
    "colab": {
      "name": "Lista 3 - Breast Cancer Wisconsin - Keras - Elio Nakano.ipynb",
      "provenance": []
    },
    "kernelspec": {
      "name": "python3",
      "display_name": "Python 3"
    }
  },
  "cells": [
    {
      "cell_type": "code",
      "metadata": {
        "id": "StUTAuIAM_jR",
        "colab_type": "code",
        "outputId": "5d83eff4-aef1-4dec-c49c-5c0970f9def6",
        "colab": {
          "base_uri": "https://localhost:8080/",
          "height": 34
        }
      },
      "source": [
        "import numpy as np\n",
        "import pandas as pd\n",
        "from keras.models import Sequential\n",
        "from keras.layers import Dense, Activation\n",
        "from keras import optimizers\n",
        "import matplotlib.pyplot as plt\n",
        "from sklearn import preprocessing\n",
        "from sklearn.model_selection import train_test_split\n",
        "import time\n",
        "import psutil\n",
        "import humanize\n",
        "import os"
      ],
      "execution_count": 0,
      "outputs": [
        {
          "output_type": "stream",
          "text": [
            "Using TensorFlow backend.\n"
          ],
          "name": "stderr"
        }
      ]
    },
    {
      "cell_type": "code",
      "metadata": {
        "id": "SUAvvcbuXvlb",
        "colab_type": "code",
        "colab": {}
      },
      "source": [
        "dados_um = np.genfromtxt('https://archive.ics.uci.edu/ml/machine-learning-databases/breast-cancer-wisconsin/breast-cancer-wisconsin.data', delimiter=',')\n",
        "dados_dois = np.genfromtxt('https://archive.ics.uci.edu/ml/machine-learning-databases/breast-cancer-wisconsin/breast-cancer-wisconsin.data', delimiter=',')\n",
        "dados_três = np.genfromtxt('https://archive.ics.uci.edu/ml/machine-learning-databases/breast-cancer-wisconsin/breast-cancer-wisconsin.data', delimiter=',')\n"
      ],
      "execution_count": 0,
      "outputs": []
    },
    {
      "cell_type": "code",
      "metadata": {
        "id": "qs1h9-NG2RDb",
        "colab_type": "code",
        "colab": {}
      },
      "source": [
        "dados_um_ajust = dados_um[~np.isnan(dados_um).any(axis=1)].astype(int)\n",
        "\n",
        "x = (dados_um[:,1:10])\n",
        "y = dados_um[:,10]\n",
        "y = (y-2)/2\n"
      ],
      "execution_count": 0,
      "outputs": []
    },
    {
      "cell_type": "code",
      "metadata": {
        "id": "Rxj3bJj-h0eY",
        "colab_type": "code",
        "colab": {}
      },
      "source": [
        "def treinamento_modelo(epocas, tam_batch, taxa_aprend, func_ativ_1, func_ativ_2,n_saida_cam_1,n_saida_cam_2):\n",
        "  \n",
        "  model = Sequential()\n",
        "  model.add(Dense(n_saida_cam_1, input_dim=9))\n",
        "  model.add(Activation(func_ativ_1))\n",
        "  model.add(Dense(n_saida_cam_2))\n",
        "  model.add(Activation(func_ativ_2))\n",
        "  sgd = optimizers.SGD(lr=taxa_aprend)\n",
        "\n",
        "  model.compile(optimizer='sgd', loss='mse', metrics=['acc'])\n",
        " \n",
        "  process = psutil.Process(os.getpid())\n",
        " \n",
        "\n",
        "  memory1= process.memory_info().rss\n",
        "  time1 = time.time()\n",
        "\n",
        "  resultado = model.fit(x, y, epochs=epocas, batch_size=tam_batch, verbose=0)\n",
        "  \n",
        "  #teste = model.evaluate(x_test, y_test, batch_size=tam_batch, verbose=1)\n",
        "  #print ('isto é', teste)\n",
        "  \n",
        "  memory2=process.memory_info().rss\n",
        "  time2 = time.time()\n",
        "\n",
        "  \n",
        " # val_acc=resultado.history['val_acc'][-1]\n",
        "  mem = memory2 - memory1\n",
        "  temp = time2 - time1\n",
        " #acuracia.append(val_acc)\n",
        "  tempo_de_processamento.append(temp)\n",
        "  uso_de_memoria.append(mem)\n",
        "  #print('\\nacurácia: ', val_acc)\n",
        "  print('uso de memória: ',humanize.naturalsize(mem))\n",
        "  print('tempo de processamento: ', temp)\n",
        "   \n",
        "  plt.subplot(1, 2, 1)\n",
        "  plt.plot(resultado.history['loss'])\n",
        "  #plt.plot(resultado.history['val_loss'])\n",
        "  plt.title('Model Loss')\n",
        "  plt.ylabel('Loss')\n",
        "  plt.xlabel('Epoch')\n",
        "  plt.legend(['Train', 'Test'], loc='best')\n",
        "  \n",
        "\n",
        "  plt.subplot(1, 2, 2)\n",
        "  plt.plot(resultado.history['acc'])\n",
        "  #plt.plot(resultado.history['val_acc'])\n",
        "  plt.title('Model accuracy')\n",
        "  plt.ylabel('Accuracy')\n",
        "  plt.xlabel('Epoch')\n",
        "  plt.legend(['Train', 'Test'], loc='best')\n",
        " \n",
        "  plt.tight_layout()\n",
        "  plt.show()\n",
        "\n"
      ],
      "execution_count": 0,
      "outputs": []
    },
    {
      "cell_type": "code",
      "metadata": {
        "id": "Q7n80Su7sBDx",
        "colab_type": "code",
        "outputId": "c57fa742-134b-4d96-89a8-a0bc273e353b",
        "colab": {
          "base_uri": "https://localhost:8080/",
          "height": 535
        }
      },
      "source": [
        "tempo_de_processamento = []\n",
        "uso_de_memoria = []\n",
        "acuracia = []\n",
        "\n",
        "epocas = 100\n",
        "tam_batch = 2\n",
        "taxa_aprend = 0.001\n",
        "func_ativ_1 = 'sigmoid'\n",
        "func_ativ_2 = 'sigmoid'\n",
        "n_saida_cam_1 = 10\n",
        "n_saida_cam_2 = 1\n",
        "\n",
        "print('\\n Treinamento para batch size: ', tam_batch)\n",
        "treinamento_modelo(epocas, tam_batch, taxa_aprend, func_ativ_1, func_ativ_2,n_saida_cam_1,n_saida_cam_2)\n",
        "\n",
        "tam_batch = 10\n",
        "print('\\n Treinamento para batch size: ', tam_batch)\n",
        "treinamento_modelo(epocas, tam_batch, taxa_aprend, func_ativ_1, func_ativ_2,n_saida_cam_1,n_saida_cam_2)\n",
        "\n",
        "tam_batch = 100\n",
        "print('\\n Treinamento para batch size: ', tam_batch)\n",
        "treinamento_modelo(epocas, tam_batch, taxa_aprend, func_ativ_1, func_ativ_2,n_saida_cam_1,n_saida_cam_2)\n",
        "\n",
        "tam_batch = 250\n",
        "print('\\n Treinamento para batch size: ', tam_batch)\n",
        "treinamento_modelo(epocas, tam_batch, taxa_aprend, func_ativ_1, func_ativ_2,n_saida_cam_1,n_saida_cam_2)\n",
        "\n",
        "tam_batch = 500\n",
        "print('\\n Treinamento para batch size: ', tam_batch)\n",
        "treinamento_modelo(epocas, tam_batch, taxa_aprend, func_ativ_1, func_ativ_2,n_saida_cam_1,n_saida_cam_2)"
      ],
      "execution_count": 0,
      "outputs": [
        {
          "output_type": "stream",
          "text": [
            "\n",
            " Treinamento para batch size:  2\n",
            "WARNING:tensorflow:From /usr/local/lib/python3.6/dist-packages/tensorflow/python/framework/op_def_library.py:263: colocate_with (from tensorflow.python.framework.ops) is deprecated and will be removed in a future version.\n",
            "Instructions for updating:\n",
            "Colocations handled automatically by placer.\n",
            "WARNING:tensorflow:From /usr/local/lib/python3.6/dist-packages/tensorflow/python/ops/math_ops.py:3066: to_int32 (from tensorflow.python.ops.math_ops) is deprecated and will be removed in a future version.\n",
            "Instructions for updating:\n",
            "Use tf.cast instead.\n",
            "uso de memória:  22.0 MB\n",
            "tempo de processamento:  24.559364557266235\n"
          ],
          "name": "stdout"
        },
        {
          "output_type": "display_data",
          "data": {
            "image/png": "[encoded data removed]",
            "text/plain": [
              "<Figure size 432x288 with 2 Axes>"
            ]
          },
          "metadata": {
            "tags": []
          }
        },
        {
          "output_type": "stream",
          "text": [
            "\n",
            " Treinamento para batch size:  10\n",
            "uso de memória:  4.1 MB\n",
            "tempo de processamento:  6.088716268539429\n"
          ],
          "name": "stdout"
        },
        {
          "output_type": "display_data",
          "data": {
            "image/png": "[encoded data removed]",
            "text/plain": [
              "<Figure size 432x288 with 2 Axes>"
            ]
          },
          "metadata": {
            "tags": []
          }
        }
      ]
    },
    {
      "cell_type": "code",
      "metadata": {
        "id": "vPSSE6H6-B32",
        "colab_type": "code",
        "colab": {}
      },
      "source": [
        "a=np.arange(5)     \n",
        "print(tempo_de_processamento)\n",
        "plt.bar(a,height=tempo_de_processamento, align='center')\n",
        "plt.xticks(a, (2,10,100,250,500))\n",
        "plt.title('Tempo de Processamento X Batch Size')\n",
        "plt.ylabel('Tempo de Processamento')\n",
        "plt.xlabel('Batch Size do Treinamento')\n",
        "plt.show() \n",
        "\n",
        "print(uso_de_memoria)\n",
        "\n",
        "plt.bar(a,height=uso_de_memoria, align='center')\n",
        "plt.xticks(a, (2,10,100,250,500))\n",
        "plt.title('Uso de Memória X Batch Size')\n",
        "plt.ylabel('Uso de Memória')\n",
        "plt.xlabel('Batch Size do Treinamento')\n",
        "plt.show() \n",
        "\n",
        "print(acuracia)\n",
        "plt.bar(a,height=acuracia, align='center')\n",
        "plt.xticks(a, (2,10,100,250,500))\n",
        "plt.title('Acurácia X Batch Size')\n",
        "plt.ylabel('Acurácia')\n",
        "plt.xlabel('Batch Size do Treinamento')\n",
        "plt.show() \n",
        "       "
      ],
      "execution_count": 0,
      "outputs": []
    },
    {
      "cell_type": "code",
      "metadata": {
        "id": "pPL1DIihEylm",
        "colab_type": "code",
        "colab": {}
      },
      "source": [
        "tempo_de_processamento = []\n",
        "uso_de_memoria = []\n",
        "acuracia = []\n",
        "\n",
        "\n",
        "tam_batch = 100\n",
        "\n",
        "print('\\n Treinamento para taxa de aprendizado: ', taxa_aprend)\n",
        "treinamento_modelo(epocas, tam_batch, taxa_aprend, func_ativ_1, func_ativ_2,n_saida_cam_1,n_saida_cam_2)\n",
        "\n",
        "taxa_aprend = 0.01\n",
        "print('\\n Treinamento para taxa de aprendizado: ', taxa_aprend)\n",
        "treinamento_modelo(epocas, tam_batch, taxa_aprend, func_ativ_1, func_ativ_2,n_saida_cam_1,n_saida_cam_2)\n",
        "\n",
        "taxa_aprend = 0.1\n",
        "print('\\n Treinamento para taxa de aprendizado: ', taxa_aprend)\n",
        "treinamento_modelo(epocas, tam_batch, taxa_aprend, func_ativ_1, func_ativ_2,n_saida_cam_1,n_saida_cam_2)\n",
        "\n",
        "taxa_aprend = 1\n",
        "print('\\n Treinamento para taxa de aprendizado: ', taxa_aprend)\n",
        "treinamento_modelo(epocas, tam_batch, taxa_aprend, func_ativ_1, func_ativ_2,n_saida_cam_1,n_saida_cam_2)\n",
        "\n",
        "taxa_aprend = 10\n",
        "print('\\n Treinamento para taxa de aprendizado: ', taxa_aprend)\n",
        "treinamento_modelo(epocas, tam_batch, taxa_aprend, func_ativ_1, func_ativ_2,n_saida_cam_1,n_saida_cam_2)\n",
        "\n",
        "\n"
      ],
      "execution_count": 0,
      "outputs": []
    },
    {
      "cell_type": "code",
      "metadata": {
        "id": "YXmSrhiUKKPo",
        "colab_type": "code",
        "colab": {}
      },
      "source": [
        "a=np.arange(5)     \n",
        "print(tempo_de_processamento)\n",
        "plt.bar(a,height=tempo_de_processamento, align='center')\n",
        "plt.xticks(a, (0.001,0.01,0.1,1,10))\n",
        "plt.title('Tempo de Processamento X Taxa de Aprendizado')\n",
        "plt.ylabel('Tempo de Processamento')\n",
        "plt.xlabel('Taxa de Aprendizado')\n",
        "plt.show() \n",
        "\n",
        "print(uso_de_memoria)\n",
        "\n",
        "plt.bar(a,height=uso_de_memoria, align='center')\n",
        "plt.xticks(a, (0.001,0.01,0.1,1,10))\n",
        "plt.title('Uso de Memória X Taxa de Aprendizado')\n",
        "plt.ylabel('Uso de Memória')\n",
        "plt.xlabel('Taxa de Aprendizado')\n",
        "plt.show() \n",
        "\n",
        "\n",
        "print(acuracia)\n",
        "plt.bar(a,height=acuracia, align='center')\n",
        "plt.xticks(a, (0.001,0.01,0.1,1,10))\n",
        "plt.title('Acurácia X Taxa de Aprendizado')\n",
        "plt.ylabel('Acurácia Processamento')\n",
        "plt.xlabel('Taxa de Aprendizado')\n",
        "plt.show() \n",
        "\n",
        "       "
      ],
      "execution_count": 0,
      "outputs": []
    }
  ]
}